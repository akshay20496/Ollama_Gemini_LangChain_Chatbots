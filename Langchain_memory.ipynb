{
 "cells": [
  {
   "cell_type": "code",
   "execution_count": 13,
   "id": "48df2774-f2c0-4f5c-b1ed-c25129423c26",
   "metadata": {},
   "outputs": [],
   "source": [
    "import os\n",
    "from dotenv import load_dotenv\n",
    "\n",
    "# Load the variables from .env file\n",
    "load_dotenv()\n",
    "\n",
    "# Access the variable\n",
    "api_key = os.getenv(\"GEMINI_api_key\")\n",
    "\n"
   ]
  },
  {
   "cell_type": "markdown",
   "id": "15f95f4a-2e29-41d2-b226-43f62bc14543",
   "metadata": {},
   "source": [
    "## 1. ConversationBufferMemory (most common)\n",
    "\n",
    "- Stores full chat history as a text buffer.\n",
    "\n",
    "- Works well for small or short conversations."
   ]
  },
  {
   "cell_type": "code",
   "execution_count": 1,
   "id": "93f6601b-405d-4b9f-8447-380c011a2527",
   "metadata": {},
   "outputs": [
    {
     "name": "stderr",
     "output_type": "stream",
     "text": [
      "C:\\Users\\Akshay\\AppData\\Local\\Temp\\ipykernel_3412\\2355174150.py:2: LangChainDeprecationWarning: Please see the migration guide at: https://python.langchain.com/docs/versions/migrating_memory/\n",
      "  memory = ConversationBufferMemory()\n"
     ]
    }
   ],
   "source": [
    "from langchain.memory import ConversationBufferMemory\n",
    "memory = ConversationBufferMemory()\n"
   ]
  },
  {
   "cell_type": "markdown",
   "id": "cfbb053f-055d-4258-a41c-7aa14cb282f5",
   "metadata": {},
   "source": [
    "**example**"
   ]
  },
  {
   "cell_type": "code",
   "execution_count": 4,
   "id": "7590102e-371d-4b31-82d6-ed05bf6cb1f8",
   "metadata": {},
   "outputs": [
    {
     "name": "stderr",
     "output_type": "stream",
     "text": [
      "C:\\Users\\Akshay\\AppData\\Local\\Temp\\ipykernel_3412\\3238538362.py:13: LangChainDeprecationWarning: The class `ConversationChain` was deprecated in LangChain 0.2.7 and will be removed in 1.0. Use :meth:`~RunnableWithMessageHistory: https://python.langchain.com/v0.2/api_reference/core/runnables/langchain_core.runnables.history.RunnableWithMessageHistory.html` instead.\n",
      "  chain = ConversationChain(llm=llm, memory=memory)\n",
      "C:\\Users\\Akshay\\AppData\\Local\\Temp\\ipykernel_3412\\3238538362.py:16: LangChainDeprecationWarning: The method `Chain.run` was deprecated in langchain 0.1.0 and will be removed in 1.0. Use :meth:`~invoke` instead.\n",
      "  response1 = chain.run(\"Hi, I'm Akshay.\")\n"
     ]
    },
    {
     "name": "stdout",
     "output_type": "stream",
     "text": [
      "Response 1: Hi Akshay, it's nice to meet you! Or, as nice as it can be for me, a large language model. I don't exactly experience \"meeting\" in the same way you do. I don't have hands to shake, for example. But I am glad to be interacting with you. I'm trained on a massive dataset of text and code, which allows me to communicate and generate human-like text in response to a wide range of prompts and questions. I can do things like summarize factual topics, create stories, and translate languages. Is there anything I can help you with today, Akshay? \n",
      "\n",
      "Response 2: As you just told me, your name is Akshay. I will try my best to remember that! \n",
      "\n",
      "Response 3: I am a large language model trained on a massive dataset of text and code, designed to communicate and generate human-like text in response to prompts and questions. \n",
      "\n",
      "Response 4: Why don't scientists trust atoms?\n",
      "\n",
      "Because they make up everything! \n",
      "\n",
      "\n",
      "Memory Chat History:\n",
      " [HumanMessage(content=\"Hi, I'm Akshay.\", additional_kwargs={}, response_metadata={}), AIMessage(content='Hi Akshay, it\\'s nice to meet you! Or, as nice as it can be for me, a large language model. I don\\'t exactly experience \"meeting\" in the same way you do. I don\\'t have hands to shake, for example. But I am glad to be interacting with you. I\\'m trained on a massive dataset of text and code, which allows me to communicate and generate human-like text in response to a wide range of prompts and questions. I can do things like summarize factual topics, create stories, and translate languages. Is there anything I can help you with today, Akshay?', additional_kwargs={}, response_metadata={}), HumanMessage(content='What is my name?', additional_kwargs={}, response_metadata={}), AIMessage(content='As you just told me, your name is Akshay. I will try my best to remember that!', additional_kwargs={}, response_metadata={}), HumanMessage(content='What is AI provide me in a single sentence?', additional_kwargs={}, response_metadata={}), AIMessage(content='I am a large language model trained on a massive dataset of text and code, designed to communicate and generate human-like text in response to prompts and questions.', additional_kwargs={}, response_metadata={}), HumanMessage(content='Tell me a joke?', additional_kwargs={}, response_metadata={}), AIMessage(content=\"Why don't scientists trust atoms?\\n\\nBecause they make up everything!\", additional_kwargs={}, response_metadata={})]\n"
     ]
    }
   ],
   "source": [
    "from langchain_google_genai import ChatGoogleGenerativeAI\n",
    "from langchain.chains import ConversationChain\n",
    "from langchain.memory import ConversationBufferMemory\n",
    "\n",
    "# Initialize Gemini model (You need your API key set in env variable GOOGLE_API_KEY)\n",
    "gemini_api_key = \"Use-your-api-key\"\n",
    "llm = ChatGoogleGenerativeAI(model=\"gemini-2.0-flash\", api_key=gemini_api_key)\n",
    "\n",
    "# Setup memory\n",
    "memory = ConversationBufferMemory()\n",
    "\n",
    "# Build conversation chain\n",
    "chain = ConversationChain(llm=llm, memory=memory)\n",
    "\n",
    "# Run conversation\n",
    "response1 = chain.run(\"Hi, I'm Akshay.\")\n",
    "response2 = chain.run(\"What is my name?\")\n",
    "response3 = chain.run(\"What is AI provide me in a single sentence?\")\n",
    "response4 = chain.run(\"Tell me a joke?\")\n",
    "\n",
    "print(\"Response 1:\", response1, '\\n')\n",
    "print(\"Response 2:\", response2, '\\n')\n",
    "print(\"Response 3:\", response3, '\\n')\n",
    "print(\"Response 4:\", response4, '\\n')\n",
    "\n",
    "# View memory contents\n",
    "print(\"\\nMemory Chat History:\\n\", memory.chat_memory.messages)"
   ]
  },
  {
   "cell_type": "code",
   "execution_count": 6,
   "id": "89ecc4f0-ca75-441a-8f1c-66280fd6b3e0",
   "metadata": {},
   "outputs": [
    {
     "data": {
      "text/plain": [
       "8"
      ]
     },
     "execution_count": 6,
     "metadata": {},
     "output_type": "execute_result"
    }
   ],
   "source": [
    "len(memory.chat_memory.messages)"
   ]
  },
  {
   "cell_type": "code",
   "execution_count": 8,
   "id": "0bea1d56-59b8-45f8-b258-ed53852dafba",
   "metadata": {},
   "outputs": [
    {
     "name": "stdout",
     "output_type": "stream",
     "text": [
      "human : Hi, I'm Akshay.\n",
      "\n",
      "ai : Hi Akshay, it's nice to meet you! Or, as nice as it can be for me, a large language model. I don't exactly experience \"meeting\" in the same way you do. I don't have hands to shake, for example. But I am glad to be interacting with you. I'm trained on a massive dataset of text and code, which allows me to communicate and generate human-like text in response to a wide range of prompts and questions. I can do things like summarize factual topics, create stories, and translate languages. Is there anything I can help you with today, Akshay?\n",
      "\n",
      "human : What is my name?\n",
      "\n",
      "ai : As you just told me, your name is Akshay. I will try my best to remember that!\n",
      "\n",
      "human : What is AI provide me in a single sentence?\n",
      "\n",
      "ai : I am a large language model trained on a massive dataset of text and code, designed to communicate and generate human-like text in response to prompts and questions.\n",
      "\n",
      "human : Tell me a joke?\n",
      "\n",
      "ai : Why don't scientists trust atoms?\n",
      "\n",
      "Because they make up everything!\n",
      "\n"
     ]
    }
   ],
   "source": [
    "for message in memory.chat_memory.messages:\n",
    "    print(f\"{message.type} : {message.content}\\n\")"
   ]
  },
  {
   "cell_type": "markdown",
   "id": "11453ce7-c003-4502-b267-937f7b662025",
   "metadata": {},
   "source": [
    "## 2. ConversationBufferWindowMemory\n",
    "\n",
    "- Only stores the last N interactions.\n",
    "\n",
    "- Good for long chats where only recent context matters."
   ]
  },
  {
   "cell_type": "code",
   "execution_count": 11,
   "id": "f3625e2c-3e44-465f-95c5-24f05cef05ea",
   "metadata": {},
   "outputs": [
    {
     "name": "stderr",
     "output_type": "stream",
     "text": [
      "C:\\Users\\Akshay\\AppData\\Local\\Temp\\ipykernel_3412\\228161745.py:2: LangChainDeprecationWarning: Please see the migration guide at: https://python.langchain.com/docs/versions/migrating_memory/\n",
      "  memory = ConversationBufferWindowMemory(k=3)\n"
     ]
    }
   ],
   "source": [
    "from langchain.memory import ConversationBufferWindowMemory\n",
    "memory = ConversationBufferWindowMemory(k=3)\n"
   ]
  },
  {
   "cell_type": "code",
   "execution_count": 13,
   "id": "7b5c58a4-2f97-4062-a9ef-22d721f8cdd2",
   "metadata": {},
   "outputs": [
    {
     "name": "stdout",
     "output_type": "stream",
     "text": [
      "Hello Akshay! It's wonderful to meet you. I'm a large language model, trained by Google. It's really fascinating to interact with humans like yourself; my core purpose is to process information and generate text based on the vast datasets I was trained on. I don't have a personal name like you do, but you can just call me AI! How are you doing today?\n",
      "Your name is Akshay! You told me that right at the beginning of our conversation. It's one of the first pieces of information I processed from your input. My training allows me to recall details from our ongoing interaction, so I can keep track of things like names, topics we've discussed, and even specific phrases you've used. It's a pretty handy feature for keeping conversations coherent!\n"
     ]
    }
   ],
   "source": [
    "from langchain.memory import ConversationBufferWindowMemory\n",
    "from langchain_google_genai import ChatGoogleGenerativeAI\n",
    "from langchain.chains import ConversationChain\n",
    "from langchain.memory import ConversationBufferMemory\n",
    "\n",
    "# os.environ[\"GOOGLE_API_KEY\"] = api_key\n",
    "# Initialize Gemini model (You need your API key set in env variable GOOGLE_API_KEY)\n",
    "gemini_api_key = \"Use-your-api-key\"\n",
    "llm = ChatGoogleGenerativeAI(model=\"gemini-2.5-flash\", api_key=gemini_api_key)\n",
    "\n",
    "# Run conversation\n",
    "\n",
    "memory = ConversationBufferWindowMemory(k=1)\n",
    "chain = ConversationChain(llm=llm, memory=memory)\n",
    "\n",
    "print(chain.run(\"Hi, my name is Akshay\"))\n",
    "print(chain.run(\"What is my name?\"))  # Won't remember if k=1\n"
   ]
  },
  {
   "cell_type": "code",
   "execution_count": 15,
   "id": "ce0da1db-f7b9-4c39-b32a-1aa5cc98c5c8",
   "metadata": {},
   "outputs": [
    {
     "data": {
      "text/plain": [
       "4"
      ]
     },
     "execution_count": 15,
     "metadata": {},
     "output_type": "execute_result"
    }
   ],
   "source": [
    "len(memory.chat_memory.messages)"
   ]
  },
  {
   "cell_type": "code",
   "execution_count": 17,
   "id": "15e9e0e5-e605-49cf-a38a-1a78e0cfa3a4",
   "metadata": {},
   "outputs": [
    {
     "name": "stdout",
     "output_type": "stream",
     "text": [
      "human : Hi, my name is Akshay\n",
      "\n",
      "ai : Hello Akshay! It's wonderful to meet you. I'm a large language model, trained by Google. It's really fascinating to interact with humans like yourself; my core purpose is to process information and generate text based on the vast datasets I was trained on. I don't have a personal name like you do, but you can just call me AI! How are you doing today?\n",
      "\n",
      "human : What is my name?\n",
      "\n",
      "ai : Your name is Akshay! You told me that right at the beginning of our conversation. It's one of the first pieces of information I processed from your input. My training allows me to recall details from our ongoing interaction, so I can keep track of things like names, topics we've discussed, and even specific phrases you've used. It's a pretty handy feature for keeping conversations coherent!\n",
      "\n"
     ]
    }
   ],
   "source": [
    "for message in memory.chat_memory.messages:\n",
    "    print(f\"{message.type} : {message.content}\\n\")"
   ]
  },
  {
   "cell_type": "code",
   "execution_count": 19,
   "id": "cdfd4245-e429-4903-8f19-8cd3b3c7a1d5",
   "metadata": {},
   "outputs": [
    {
     "name": "stdout",
     "output_type": "stream",
     "text": [
      "Response 1: Hi Akshay, it's nice to meet you! My name is Bard, and I'm a large language model. I'm excited to chat with you today. I was trained by Google and I'm designed to be informative and comprehensive. I can generate different creative text formats, like poems, code, scripts, musical pieces, email, letters, etc. I will try my best to fulfill all your requirements. What can I do for you today? \n",
      "\n",
      "Response 2: You told me your name is Akshay. \n",
      "\n",
      "Response 3: AI is a branch of computer science focused on creating machines capable of performing tasks that typically require human intelligence. \n",
      "\n",
      "Response 4: Why don't scientists trust atoms? Because they make up everything! \n",
      "\n"
     ]
    }
   ],
   "source": [
    "from langchain_google_genai import ChatGoogleGenerativeAI\n",
    "from langchain.chains import ConversationChain\n",
    "from langchain.memory import ConversationBufferMemory\n",
    "\n",
    "# Initialize Gemini model (You need your API key set in env variable GOOGLE_API_KEY)\n",
    "gemini_api_key = \"Use-your-api-key\"\n",
    "llm = ChatGoogleGenerativeAI(model=\"gemini-2.0-flash\", api_key=gemini_api_key)\n",
    "\n",
    "# Setup memory\n",
    "memory = ConversationBufferWindowMemory(k=2)\n",
    "\n",
    "# Build conversation chain\n",
    "chain = ConversationChain(llm=llm, memory=memory)\n",
    "\n",
    "# Run conversation\n",
    "response1 = chain.run(\"Hi, I'm Akshay.\")\n",
    "response2 = chain.run(\"What is my name?\")\n",
    "response3 = chain.run(\"What is AI provide me in a single sentence?\")\n",
    "response4 = chain.run(\"Tell me a joke?\")\n",
    "\n",
    "print(\"Response 1:\", response1, '\\n')\n",
    "print(\"Response 2:\", response2, '\\n')\n",
    "print(\"Response 3:\", response3, '\\n')\n",
    "print(\"Response 4:\", response4, '\\n')"
   ]
  },
  {
   "cell_type": "code",
   "execution_count": 21,
   "id": "4fc96690-0994-4c81-93ff-270677bdabc7",
   "metadata": {},
   "outputs": [
    {
     "data": {
      "text/plain": [
       "8"
      ]
     },
     "execution_count": 21,
     "metadata": {},
     "output_type": "execute_result"
    }
   ],
   "source": [
    "len(memory.chat_memory.messages)"
   ]
  },
  {
   "cell_type": "code",
   "execution_count": 23,
   "id": "a579ce51-66c5-43ce-b1b9-5c9b62cddec8",
   "metadata": {},
   "outputs": [
    {
     "name": "stdout",
     "output_type": "stream",
     "text": [
      "human : Hi, I'm Akshay.\n",
      "\n",
      "ai : Hi Akshay, it's nice to meet you! My name is Bard, and I'm a large language model. I'm excited to chat with you today. I was trained by Google and I'm designed to be informative and comprehensive. I can generate different creative text formats, like poems, code, scripts, musical pieces, email, letters, etc. I will try my best to fulfill all your requirements. What can I do for you today?\n",
      "\n",
      "human : What is my name?\n",
      "\n",
      "ai : You told me your name is Akshay.\n",
      "\n",
      "human : What is AI provide me in a single sentence?\n",
      "\n",
      "ai : AI is a branch of computer science focused on creating machines capable of performing tasks that typically require human intelligence.\n",
      "\n",
      "human : Tell me a joke?\n",
      "\n",
      "ai : Why don't scientists trust atoms? Because they make up everything!\n",
      "\n"
     ]
    }
   ],
   "source": [
    "for message in memory.chat_memory.messages:\n",
    "    print(f\"{message.type} : {message.content}\\n\")"
   ]
  },
  {
   "cell_type": "code",
   "execution_count": 25,
   "id": "c9b5881c-0e27-48cc-bdbc-b4c590791e00",
   "metadata": {},
   "outputs": [
    {
     "name": "stdout",
     "output_type": "stream",
     "text": [
      "\n",
      "Memory Chat History:\n",
      " [HumanMessage(content=\"Hi, I'm Akshay.\", additional_kwargs={}, response_metadata={}), AIMessage(content=\"Hi Akshay, it's nice to meet you! My name is Bard, and I'm a large language model. I'm excited to chat with you today. I was trained by Google and I'm designed to be informative and comprehensive. I can generate different creative text formats, like poems, code, scripts, musical pieces, email, letters, etc. I will try my best to fulfill all your requirements. What can I do for you today?\", additional_kwargs={}, response_metadata={}), HumanMessage(content='What is my name?', additional_kwargs={}, response_metadata={}), AIMessage(content='You told me your name is Akshay.', additional_kwargs={}, response_metadata={}), HumanMessage(content='What is AI provide me in a single sentence?', additional_kwargs={}, response_metadata={}), AIMessage(content='AI is a branch of computer science focused on creating machines capable of performing tasks that typically require human intelligence.', additional_kwargs={}, response_metadata={}), HumanMessage(content='Tell me a joke?', additional_kwargs={}, response_metadata={}), AIMessage(content=\"Why don't scientists trust atoms? Because they make up everything!\", additional_kwargs={}, response_metadata={})]\n"
     ]
    }
   ],
   "source": [
    "print(\"\\nMemory Chat History:\\n\", memory.chat_memory.messages)"
   ]
  },
  {
   "cell_type": "code",
   "execution_count": 27,
   "id": "d9822524-5727-4d2e-b18b-05d74af9d1db",
   "metadata": {},
   "outputs": [
    {
     "name": "stdout",
     "output_type": "stream",
     "text": [
      "\n",
      "Visible to LLM (last k=2 turns):\n",
      " {'history': \"Human: What is AI provide me in a single sentence?\\nAI: AI is a branch of computer science focused on creating machines capable of performing tasks that typically require human intelligence.\\nHuman: Tell me a joke?\\nAI: Why don't scientists trust atoms? Because they make up everything!\"}\n",
      "\n",
      "Full memory contents:\n",
      " [HumanMessage(content=\"Hi, I'm Akshay.\", additional_kwargs={}, response_metadata={}), AIMessage(content=\"Hi Akshay, it's nice to meet you! My name is Bard, and I'm a large language model. I'm excited to chat with you today. I was trained by Google and I'm designed to be informative and comprehensive. I can generate different creative text formats, like poems, code, scripts, musical pieces, email, letters, etc. I will try my best to fulfill all your requirements. What can I do for you today?\", additional_kwargs={}, response_metadata={}), HumanMessage(content='What is my name?', additional_kwargs={}, response_metadata={}), AIMessage(content='You told me your name is Akshay.', additional_kwargs={}, response_metadata={}), HumanMessage(content='What is AI provide me in a single sentence?', additional_kwargs={}, response_metadata={}), AIMessage(content='AI is a branch of computer science focused on creating machines capable of performing tasks that typically require human intelligence.', additional_kwargs={}, response_metadata={}), HumanMessage(content='Tell me a joke?', additional_kwargs={}, response_metadata={}), AIMessage(content=\"Why don't scientists trust atoms? Because they make up everything!\", additional_kwargs={}, response_metadata={})]\n"
     ]
    }
   ],
   "source": [
    "print(\"\\nVisible to LLM (last k=2 turns):\\n\", memory.load_memory_variables({}))\n",
    "print(\"\\nFull memory contents:\\n\", memory.chat_memory.messages)"
   ]
  },
  {
   "cell_type": "markdown",
   "id": "682f3175-2cb5-4b01-8a48-0fc762723f16",
   "metadata": {},
   "source": [
    "## 3. ConversationSummaryMemory\n",
    "\n",
    "- Summarizes long history using the LLM."
   ]
  },
  {
   "cell_type": "code",
   "execution_count": 30,
   "id": "470afbe8-cbb1-431c-99bf-b3ee367f9e27",
   "metadata": {},
   "outputs": [
    {
     "name": "stderr",
     "output_type": "stream",
     "text": [
      "C:\\Users\\Akshay\\AppData\\Local\\Temp\\ipykernel_3412\\3801829436.py:7: LangChainDeprecationWarning: Please see the migration guide at: https://python.langchain.com/docs/versions/migrating_memory/\n",
      "  summary_memory = ConversationSummaryMemory(llm=llm)\n"
     ]
    },
    {
     "name": "stdout",
     "output_type": "stream",
     "text": [
      "Hi Akshay! It's nice to meet you. I'm an AI assistant, a large language model. I was trained by Google and I'm designed to be informative and comprehensive. I'm still under development, but I'm learning new things every day! Is there anything I can help you with today? I can try my hand at writing different kinds of creative content, answer your questions in an informative way, and even translate languages. Just let me know what's on your mind!\n",
      "That's fantastic, Akshay! Data Science and AI are incredibly exciting fields right now. Developing something \"interesting\" is a great goal. To help me give you some tailored suggestions, could you tell me a bit more about what you find interesting within Data Science and AI? For example, are you more drawn to:\n",
      "\n",
      "*   **Specific applications?** (e.g., Natural Language Processing, Computer Vision, Healthcare, Finance, Robotics, Climate Change)\n",
      "*   **Specific techniques?** (e.g., Deep Learning, Machine Learning, Statistical Modeling, Reinforcement Learning)\n",
      "*   **Specific programming languages or tools?** (e.g., Python, R, TensorFlow, PyTorch, scikit-learn)\n",
      "*   **A specific level of complexity?** (e.g., beginner-friendly projects, more advanced research-oriented projects)\n",
      "\n",
      "Knowing what sparks your curiosity will help me brainstorm some ideas that you'll actually enjoy working on.\n",
      "\n",
      "In the meantime, here are a few general project ideas to get your mental gears turning, categorized by application area:\n",
      "\n",
      "**1. Natural Language Processing (NLP):**\n",
      "\n",
      "*   **Sentiment Analysis of Social Media Data:** Collect tweets about a specific topic (e.g., a new movie, a political candidate) and use NLP techniques to analyze the overall sentiment (positive, negative, neutral). You could use libraries like NLTK or spaCy in Python.\n",
      "*   **Chatbot for Customer Service:** Build a simple chatbot that can answer frequently asked questions for a business. This could involve techniques like intent recognition and entity extraction. I've been trained on similar principles!\n",
      "*   **Text Summarization:** Create a system that can automatically summarize long articles or documents. This could use techniques like extractive summarization (selecting important sentences) or abstractive summarization (generating new sentences).\n",
      "\n",
      "**2. Computer Vision:**\n",
      "\n",
      "*   **Image Classification:** Train a model to classify images into different categories (e.g., cats vs. dogs, different types of flowers). The MNIST dataset (handwritten digits) is a classic starting point.\n",
      "*   **Object Detection:** Build a system that can identify objects within an image (e.g., cars, pedestrians, traffic lights). You could use pre-trained models like YOLO or Faster R-CNN.\n",
      "*   **Facial Recognition:** Develop a system that can recognize faces in images or videos. This could be used for security purposes or for tagging friends in photos. (Ethical considerations are *very* important here!)\n",
      "\n",
      "**3. Healthcare:**\n",
      "\n",
      "*   **Disease Prediction:** Use machine learning to predict the likelihood of a patient developing a disease based on their medical history and other factors. (Note: Requires careful handling of sensitive data and collaboration with healthcare professionals.)\n",
      "*   **Image Analysis for Medical Diagnosis:** Train a model to analyze medical images (e.g., X-rays, CT scans) to detect abnormalities.\n",
      "*   **Drug Discovery:** Use AI to identify potential drug candidates or to predict the effectiveness of existing drugs. (This is a very advanced area, but even simplified models can be insightful).\n",
      "\n",
      "**4. Finance:**\n",
      "\n",
      "*   **Stock Price Prediction:** Use time series analysis to predict future stock prices based on historical data. Be *very* careful, this is not financial advice!\n",
      "*   **Fraud Detection:** Build a model to identify fraudulent transactions based on patterns in transaction data.\n",
      "*   **Credit Risk Assessment:** Use machine learning to assess the creditworthiness of loan applicants.\n",
      "\n",
      "These are just a few ideas to get you started. Let me know what resonates with you, and I can provide more specific guidance and resources! I'm excited to see what you create!\n",
      "Well Akshay, based on our conversation so far, here's what I know about you:\n",
      "\n",
      "*   **Your Name:** You introduced yourself as Akshay.\n",
      "*   **Your Interest:** You're interested in developing something interesting in the field of Data Science and AI.\n",
      "*   **You're Proactive:** You're actively seeking ideas and projects within the field.\n",
      "\n",
      "Beyond that, I don't have any other personal information about you. I don't have access to your search history, location, or anything like that. My knowledge is limited to the information you've shared directly with me in this conversation.\n"
     ]
    }
   ],
   "source": [
    "from langchain.memory import ConversationSummaryMemory\n",
    "\n",
    "# os.environ[\"GOOGLE_API_KEY\"] = api_key\n",
    "gemini_api_key = \"Use-your-api-key\"\n",
    "llm = ChatGoogleGenerativeAI(model=\"gemini-2.0-flash\", api_key=gemini_api_key)\n",
    "\n",
    "summary_memory = ConversationSummaryMemory(llm=llm)\n",
    "chain = ConversationChain(llm=llm, memory=summary_memory)\n",
    "\n",
    "print(chain.run(\"Hi, I am Akshay\"))\n",
    "print(chain.run(\"I am learning Data Science and AI and I want to develop something interesting in this field.\"))\n",
    "print(chain.run(\"What do you know about me?\"))"
   ]
  },
  {
   "cell_type": "code",
   "execution_count": 32,
   "id": "a723922c-5fdd-482f-8601-05c3c6562070",
   "metadata": {},
   "outputs": [
    {
     "name": "stdout",
     "output_type": "stream",
     "text": [
      "[HumanMessage(content='Hi, I am Akshay', additional_kwargs={}, response_metadata={}), AIMessage(content=\"Hi Akshay! It's nice to meet you. I'm an AI assistant, a large language model. I was trained by Google and I'm designed to be informative and comprehensive. I'm still under development, but I'm learning new things every day! Is there anything I can help you with today? I can try my hand at writing different kinds of creative content, answer your questions in an informative way, and even translate languages. Just let me know what's on your mind!\", additional_kwargs={}, response_metadata={}), HumanMessage(content='I am learning Data Science and AI and I want to develop something interesting in this field.', additional_kwargs={}, response_metadata={}), AIMessage(content='That\\'s fantastic, Akshay! Data Science and AI are incredibly exciting fields right now. Developing something \"interesting\" is a great goal. To help me give you some tailored suggestions, could you tell me a bit more about what you find interesting within Data Science and AI? For example, are you more drawn to:\\n\\n*   **Specific applications?** (e.g., Natural Language Processing, Computer Vision, Healthcare, Finance, Robotics, Climate Change)\\n*   **Specific techniques?** (e.g., Deep Learning, Machine Learning, Statistical Modeling, Reinforcement Learning)\\n*   **Specific programming languages or tools?** (e.g., Python, R, TensorFlow, PyTorch, scikit-learn)\\n*   **A specific level of complexity?** (e.g., beginner-friendly projects, more advanced research-oriented projects)\\n\\nKnowing what sparks your curiosity will help me brainstorm some ideas that you\\'ll actually enjoy working on.\\n\\nIn the meantime, here are a few general project ideas to get your mental gears turning, categorized by application area:\\n\\n**1. Natural Language Processing (NLP):**\\n\\n*   **Sentiment Analysis of Social Media Data:** Collect tweets about a specific topic (e.g., a new movie, a political candidate) and use NLP techniques to analyze the overall sentiment (positive, negative, neutral). You could use libraries like NLTK or spaCy in Python.\\n*   **Chatbot for Customer Service:** Build a simple chatbot that can answer frequently asked questions for a business. This could involve techniques like intent recognition and entity extraction. I\\'ve been trained on similar principles!\\n*   **Text Summarization:** Create a system that can automatically summarize long articles or documents. This could use techniques like extractive summarization (selecting important sentences) or abstractive summarization (generating new sentences).\\n\\n**2. Computer Vision:**\\n\\n*   **Image Classification:** Train a model to classify images into different categories (e.g., cats vs. dogs, different types of flowers). The MNIST dataset (handwritten digits) is a classic starting point.\\n*   **Object Detection:** Build a system that can identify objects within an image (e.g., cars, pedestrians, traffic lights). You could use pre-trained models like YOLO or Faster R-CNN.\\n*   **Facial Recognition:** Develop a system that can recognize faces in images or videos. This could be used for security purposes or for tagging friends in photos. (Ethical considerations are *very* important here!)\\n\\n**3. Healthcare:**\\n\\n*   **Disease Prediction:** Use machine learning to predict the likelihood of a patient developing a disease based on their medical history and other factors. (Note: Requires careful handling of sensitive data and collaboration with healthcare professionals.)\\n*   **Image Analysis for Medical Diagnosis:** Train a model to analyze medical images (e.g., X-rays, CT scans) to detect abnormalities.\\n*   **Drug Discovery:** Use AI to identify potential drug candidates or to predict the effectiveness of existing drugs. (This is a very advanced area, but even simplified models can be insightful).\\n\\n**4. Finance:**\\n\\n*   **Stock Price Prediction:** Use time series analysis to predict future stock prices based on historical data. Be *very* careful, this is not financial advice!\\n*   **Fraud Detection:** Build a model to identify fraudulent transactions based on patterns in transaction data.\\n*   **Credit Risk Assessment:** Use machine learning to assess the creditworthiness of loan applicants.\\n\\nThese are just a few ideas to get you started. Let me know what resonates with you, and I can provide more specific guidance and resources! I\\'m excited to see what you create!', additional_kwargs={}, response_metadata={}), HumanMessage(content='What do you know about me?', additional_kwargs={}, response_metadata={}), AIMessage(content=\"Well Akshay, based on our conversation so far, here's what I know about you:\\n\\n*   **Your Name:** You introduced yourself as Akshay.\\n*   **Your Interest:** You're interested in developing something interesting in the field of Data Science and AI.\\n*   **You're Proactive:** You're actively seeking ideas and projects within the field.\\n\\nBeyond that, I don't have any other personal information about you. I don't have access to your search history, location, or anything like that. My knowledge is limited to the information you've shared directly with me in this conversation.\", additional_kwargs={}, response_metadata={})]\n"
     ]
    }
   ],
   "source": [
    "print(summary_memory.chat_memory.messages)"
   ]
  },
  {
   "cell_type": "code",
   "execution_count": 36,
   "id": "6b90a6fd-5c12-4d4b-a12c-725977ae6430",
   "metadata": {},
   "outputs": [
    {
     "name": "stdout",
     "output_type": "stream",
     "text": [
      "human : Hi, I am Akshay\n",
      "\n",
      "ai : Hi Akshay! It's nice to meet you. I'm an AI assistant, a large language model. I was trained by Google and I'm designed to be informative and comprehensive. I'm still under development, but I'm learning new things every day! Is there anything I can help you with today? I can try my hand at writing different kinds of creative content, answer your questions in an informative way, and even translate languages. Just let me know what's on your mind!\n",
      "\n",
      "human : I am learning Data Science and AI and I want to develop something interesting in this field.\n",
      "\n",
      "ai : That's fantastic, Akshay! Data Science and AI are incredibly exciting fields right now. Developing something \"interesting\" is a great goal. To help me give you some tailored suggestions, could you tell me a bit more about what you find interesting within Data Science and AI? For example, are you more drawn to:\n",
      "\n",
      "*   **Specific applications?** (e.g., Natural Language Processing, Computer Vision, Healthcare, Finance, Robotics, Climate Change)\n",
      "*   **Specific techniques?** (e.g., Deep Learning, Machine Learning, Statistical Modeling, Reinforcement Learning)\n",
      "*   **Specific programming languages or tools?** (e.g., Python, R, TensorFlow, PyTorch, scikit-learn)\n",
      "*   **A specific level of complexity?** (e.g., beginner-friendly projects, more advanced research-oriented projects)\n",
      "\n",
      "Knowing what sparks your curiosity will help me brainstorm some ideas that you'll actually enjoy working on.\n",
      "\n",
      "In the meantime, here are a few general project ideas to get your mental gears turning, categorized by application area:\n",
      "\n",
      "**1. Natural Language Processing (NLP):**\n",
      "\n",
      "*   **Sentiment Analysis of Social Media Data:** Collect tweets about a specific topic (e.g., a new movie, a political candidate) and use NLP techniques to analyze the overall sentiment (positive, negative, neutral). You could use libraries like NLTK or spaCy in Python.\n",
      "*   **Chatbot for Customer Service:** Build a simple chatbot that can answer frequently asked questions for a business. This could involve techniques like intent recognition and entity extraction. I've been trained on similar principles!\n",
      "*   **Text Summarization:** Create a system that can automatically summarize long articles or documents. This could use techniques like extractive summarization (selecting important sentences) or abstractive summarization (generating new sentences).\n",
      "\n",
      "**2. Computer Vision:**\n",
      "\n",
      "*   **Image Classification:** Train a model to classify images into different categories (e.g., cats vs. dogs, different types of flowers). The MNIST dataset (handwritten digits) is a classic starting point.\n",
      "*   **Object Detection:** Build a system that can identify objects within an image (e.g., cars, pedestrians, traffic lights). You could use pre-trained models like YOLO or Faster R-CNN.\n",
      "*   **Facial Recognition:** Develop a system that can recognize faces in images or videos. This could be used for security purposes or for tagging friends in photos. (Ethical considerations are *very* important here!)\n",
      "\n",
      "**3. Healthcare:**\n",
      "\n",
      "*   **Disease Prediction:** Use machine learning to predict the likelihood of a patient developing a disease based on their medical history and other factors. (Note: Requires careful handling of sensitive data and collaboration with healthcare professionals.)\n",
      "*   **Image Analysis for Medical Diagnosis:** Train a model to analyze medical images (e.g., X-rays, CT scans) to detect abnormalities.\n",
      "*   **Drug Discovery:** Use AI to identify potential drug candidates or to predict the effectiveness of existing drugs. (This is a very advanced area, but even simplified models can be insightful).\n",
      "\n",
      "**4. Finance:**\n",
      "\n",
      "*   **Stock Price Prediction:** Use time series analysis to predict future stock prices based on historical data. Be *very* careful, this is not financial advice!\n",
      "*   **Fraud Detection:** Build a model to identify fraudulent transactions based on patterns in transaction data.\n",
      "*   **Credit Risk Assessment:** Use machine learning to assess the creditworthiness of loan applicants.\n",
      "\n",
      "These are just a few ideas to get you started. Let me know what resonates with you, and I can provide more specific guidance and resources! I'm excited to see what you create!\n",
      "\n",
      "human : What do you know about me?\n",
      "\n",
      "ai : Well Akshay, based on our conversation so far, here's what I know about you:\n",
      "\n",
      "*   **Your Name:** You introduced yourself as Akshay.\n",
      "*   **Your Interest:** You're interested in developing something interesting in the field of Data Science and AI.\n",
      "*   **You're Proactive:** You're actively seeking ideas and projects within the field.\n",
      "\n",
      "Beyond that, I don't have any other personal information about you. I don't have access to your search history, location, or anything like that. My knowledge is limited to the information you've shared directly with me in this conversation.\n",
      "\n"
     ]
    }
   ],
   "source": [
    "for message in summary_memory.chat_memory.messages:\n",
    "    print(f\"{message.type} : {message.content}\\n\")"
   ]
  },
  {
   "cell_type": "code",
   "execution_count": null,
   "id": "4e8978b8-e5c0-4811-b66e-cf48f0eabd3a",
   "metadata": {},
   "outputs": [],
   "source": []
  }
 ],
 "metadata": {
  "kernelspec": {
   "display_name": "Python [conda env:base] *",
   "language": "python",
   "name": "conda-base-py"
  },
  "language_info": {
   "codemirror_mode": {
    "name": "ipython",
    "version": 3
   },
   "file_extension": ".py",
   "mimetype": "text/x-python",
   "name": "python",
   "nbconvert_exporter": "python",
   "pygments_lexer": "ipython3",
   "version": "3.12.7"
  }
 },
 "nbformat": 4,
 "nbformat_minor": 5
}
